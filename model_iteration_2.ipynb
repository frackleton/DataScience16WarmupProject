{
 "cells": [
  {
   "cell_type": "code",
   "execution_count": 55,
   "metadata": {
    "collapsed": true
   },
   "outputs": [],
   "source": [
    "import pandas\n",
    "import numpy as np\n",
    "titanic = pandas. read_csv(\"train.csv\")"
   ]
  },
  {
   "cell_type": "code",
   "execution_count": 56,
   "metadata": {
    "collapsed": false
   },
   "outputs": [
    {
     "data": {
      "text/plain": [
       "'For parameters, AgeClass actually pulls down accuracy'"
      ]
     },
     "execution_count": 56,
     "metadata": {},
     "output_type": "execute_result"
    }
   ],
   "source": [
    "\"\"\"For parameters, AgeClass actually pulls down accuracy. Adding Parch and SibSp increase accuracy over multiplying the two columns.Age Categories also d \"\"\""
   ]
  },
  {
   "cell_type": "code",
   "execution_count": 57,
   "metadata": {
    "collapsed": false
   },
   "outputs": [],
   "source": [
    "\"\"\"cell copied from DataQuest example Improving you Submission page under Using the Title\"\"\"\n",
    "import re\n",
    "\n",
    "def get_title(name):\n",
    "    \"\"\"gets title from passenger name\"\"\"\n",
    "    #Use regular expression to look for title that is always capital and lowercase letters ending with a period\n",
    "    title_search = re.search(' ([A-Za-z]+)\\.', name) \n",
    "    if title_search:\n",
    "        return title_search.group(1)\n",
    "    return \"\"\n",
    "titles = titanic[\"Name\"].apply(get_title)\n",
    "#map titles to int value. rarest/most prestigious titles are highest ranked.\n",
    "title_mapping = {\"Mr\": 1, \"Miss\": 2, \"Mrs\": 3, \"Master\": 4, \"Dr\": 5, \"Rev\": 6, \"Major\": 7, \"Col\": 7, \"Mlle\": 8, \"Mme\": 8, \"Don\": 9, \"Lady\": 10, \"Countess\": 10, \"Jonkheer\": 10, \"Sir\": 9, \"Capt\": 7, \"Ms\": 2}\n",
    "for k,v in title_mapping.items():\n",
    "    titles[titles == k] = v\n",
    "titanic[\"Title\"] = titles"
   ]
  },
  {
   "cell_type": "code",
   "execution_count": 58,
   "metadata": {
    "collapsed": false,
    "scrolled": true
   },
   "outputs": [],
   "source": [
    "#clean Age and Sex and combine \n",
    "titanic[\"Age\"] = titanic[\"Age\"].fillna(titanic[\"Age\"].median())\n",
    "titanic[\"Age\"] = np.log(titanic[\"Age\"])\n",
    "titanic.Sex.replace(('male','female'),(0,1), inplace = True)\n",
    "#Embarked Cleaning\n",
    "titanic[\"Embarked\"] = titanic[\"Embarked\"].fillna(\"S\")\n",
    "titanic.Embarked.replace(('S','C','Q'),(0,1,2), inplace = True)\n",
    "#Family status\n",
    "titanic[\"Family\"] = titanic[\"Parch\"] + titanic[\"SibSp\"]\n",
    "#Now to calculate family size\n"
   ]
  },
  {
   "cell_type": "code",
   "execution_count": 59,
   "metadata": {
    "collapsed": false
   },
   "outputs": [
    {
     "name": "stdout",
     "output_type": "stream",
     "text": [
      "0.829405162738\n"
     ]
    }
   ],
   "source": [
    "from sklearn.ensemble import RandomForestClassifier, GradientBoostingClassifier\n",
    "from sklearn import cross_validation \n",
    "from sklearn.linear_model import LogisticRegression\n",
    "from sklearn.cross_validation import KFold\n",
    "\n",
    "predictors = [\"Title\",\"Pclass\", \"Sex\", \"Age\", \"Fare\", \"Embarked\", \"Family\"]\n",
    "\n",
    "alg = RandomForestClassifier(random_state=1, n_estimators=10, min_samples_split = 5, min_samples_leaf = 2)\n",
    "\n",
    "scores = cross_validation.cross_val_score(alg, titanic[predictors], titanic[\"Survived\"], cv=3)\n",
    "print scores.mean()"
   ]
  },
  {
   "cell_type": "code",
   "execution_count": 39,
   "metadata": {
    "collapsed": false,
    "scrolled": true
   },
   "outputs": [
    {
     "data": {
      "text/plain": [
       "\"I'm finding that simply using a random forest gives me a score of 0.837. This could be overtraining to the dataset.\\nUsing an ensemble of logistic regression and a gradient boosting classifier only yields a score of 0.81. Ensemble using Random forest instead of gradient boosting gives 0.819.\\nBoosting gradient alg only gives us 0.822\""
      ]
     },
     "execution_count": 39,
     "metadata": {},
     "output_type": "execute_result"
    }
   ],
   "source": [
    "\"\"\"I'm finding that simply using a random forest gives me a score of 0.837. This could be overtraining to the dataset.\n",
    "Using an ensemble of logistic regression and a gradient boosting classifier only yields a score of 0.81. Ensemble using Random forest instead of gradient boosting gives 0.819.\n",
    "Boosting gradient alg only gives us 0.822\"\"\""
   ]
  },
  {
   "cell_type": "code",
   "execution_count": 40,
   "metadata": {
    "collapsed": false
   },
   "outputs": [],
   "source": [
    "import matplotlib.pyplot as plt\n",
    "%matplotlib inline\n",
    "import numpy as np\n",
    "import pandas as pd\n",
    "from pandas import Series, DataFrame\n",
    "from patsy import dmatrices,dmatrix"
   ]
  },
  {
   "cell_type": "code",
   "execution_count": 41,
   "metadata": {
    "collapsed": true
   },
   "outputs": [],
   "source": [
    "# next I should separate ages by gender"
   ]
  },
  {
   "cell_type": "code",
   "execution_count": 42,
   "metadata": {
    "collapsed": false
   },
   "outputs": [
    {
     "data": {
      "text/plain": [
       "'Working in test set changes now'"
      ]
     },
     "execution_count": 42,
     "metadata": {},
     "output_type": "execute_result"
    }
   ],
   "source": [
    "\"\"\"Working in test set changes now\"\"\""
   ]
  },
  {
   "cell_type": "code",
   "execution_count": 43,
   "metadata": {
    "collapsed": true
   },
   "outputs": [],
   "source": [
    "titanic_test = pandas.read_csv(\"test.csv\")\n",
    "#Get title info\n",
    "titles_test = titanic_test[\"Name\"].apply(get_title)\n",
    "#map titles to int value. rarest/most prestigious titles are highest ranked.\n",
    "title_mapping_test =  {\"Mr\": 1, \"Miss\": 2, \"Mrs\": 3, \"Master\": 4, \"Dr\": 5, \"Rev\": 6, \"Major\": 7, \"Col\": 7, \"Mlle\": 8, \"Mme\": 8, \"Don\": 9, \"Lady\": 10, \"Countess\": 10, \"Jonkheer\": 10, \"Sir\": 9, \"Capt\": 7, \"Ms\": 2, \"Dona\": 10}\n",
    "for k,v in title_mapping_test.items():\n",
    "    titles_test[titles_test == k] = v    \n",
    "titanic_test[\"Title\"] = titles_test\n",
    "#Age reassign\n",
    "titanic_test[\"Age\"] = titanic_test[\"Age\"].fillna(titanic_test[\"Age\"].median())\n",
    "titanic_test[\"Age\"] = np.log(titanic_test[\"Age\"])\n",
    "\n",
    "titanic_test[\"Fare\"] = titanic_test[\"Fare\"].fillna(titanic_test[\"Fare\"].median())\n",
    "titanic_test.Sex.replace(('male','female'),(0,1), inplace = True)\n",
    "titanic_test[\"Embarked\"] = titanic_test[\"Embarked\"].fillna(\"S\")\n",
    "titanic_test.Embarked.replace(('S','C','Q'),(0,1,2), inplace = True)\n",
    "\n",
    "titanic_test[\"Family\"] = titanic_test[\"Parch\"] + titanic_test[\"SibSp\"]"
   ]
  },
  {
   "cell_type": "code",
   "execution_count": 47,
   "metadata": {
    "collapsed": false
   },
   "outputs": [],
   "source": [
    "import pandas\n",
    "predictors = [\"Pclass\", \"Sex\", \"Age\", \"Fare\", \"Embarked\", \"Family\", \"Title\"]\n",
    "\n",
    "alg = RandomForestClassifier(random_state=1, n_estimators=10, min_samples_split = 5, min_samples_leaf = 2)\n",
    "\n",
    "alg.fit(titanic[predictors], titanic[\"Survived\"])\n",
    "predictions = alg.predict(titanic_test[predictors])\n",
    "#assign a 0 or 1 to any decimal predictions\n",
    "predictions[predictions <= .5]=0\n",
    "predictions[predictions > .5] =1\n",
    "predictions = predictions.astype(int)\n",
    "\n",
    "submission = pandas.DataFrame({\n",
    "        \"PassengerId\": titanic_test[\"PassengerId\"],\n",
    "        \"Survived\":predictions})\n",
    "\n",
    "submission.to_csv(\"kaggle2.csv\", index=False)\n",
    "                             \n"
   ]
  },
  {
   "cell_type": "code",
   "execution_count": null,
   "metadata": {
    "collapsed": true
   },
   "outputs": [],
   "source": [
    "\"\"\"Notes from an in-class discussion: dummy variables were good\n",
    "it was good to use a smarter system for filling in missing ages (like with median ages for titles)\n",
    "scripts are always good to look for new ideas\n",
    "Ensemble with changing weights is always good\"\"\""
   ]
  },
  {
   "cell_type": "code",
   "execution_count": null,
   "metadata": {
    "collapsed": true
   },
   "outputs": [],
   "source": []
  }
 ],
 "metadata": {
  "kernelspec": {
   "display_name": "Python 2",
   "language": "python",
   "name": "python2"
  },
  "language_info": {
   "codemirror_mode": {
    "name": "ipython",
    "version": 2
   },
   "file_extension": ".py",
   "mimetype": "text/x-python",
   "name": "python",
   "nbconvert_exporter": "python",
   "pygments_lexer": "ipython2",
   "version": "2.7.11"
  }
 },
 "nbformat": 4,
 "nbformat_minor": 0
}
